{
 "cells": [
  {
   "cell_type": "code",
   "execution_count": 1,
   "id": "e9fa1116",
   "metadata": {},
   "outputs": [],
   "source": [
    "from dotenv import load_dotenv, find_dotenv\n",
    "_ = load_dotenv(find_dotenv())"
   ]
  },
  {
   "cell_type": "code",
   "execution_count": 2,
   "id": "794cc443",
   "metadata": {},
   "outputs": [],
   "source": [
    "from langchain_core.prompts import ChatPromptTemplate\n",
    "from langchain.schema.output_parser import StrOutputParser\n",
    "from langchain_openai import ChatOpenAI\n",
    "from typing import List\n",
    "\n",
    "\n",
    "llm = ChatOpenAI(temperature=0, model=\"gpt-3.5-turbo-0125\")"
   ]
  },
  {
   "cell_type": "code",
   "execution_count": 3,
   "id": "4656bc2d",
   "metadata": {},
   "outputs": [],
   "source": [
    "inp_simple = \"Joe spent $5 and Hannah spent $8 on a toilet plunger\"\n",
    "inp_complex = \"\"\"Sarah bought groceries for $60 and a bottle of wine for $30.\n",
    "Jake paid for gas, which costs $50, and bought snacks for $25.\n",
    "Emily booked $150 hotel room for her and Sarah and paid for dinner, which was $90.\n",
    "Jake booked his own hotel room for $80, and also bought a hotdog for Emily for $15.\n",
    "Jake and Sarah also split a $20 popcorn which they shared with Emily\"\"\""
   ]
  },
  {
   "cell_type": "code",
   "execution_count": 5,
   "id": "79da2745",
   "metadata": {},
   "outputs": [],
   "source": [
    "from langchain_core.tools import tool\n",
    "\n",
    "@tool\n",
    "def add(a: float, b: float) -> float:\n",
    "    \"\"\"Returns the result of a + b\"\"\"\n",
    "    return a + b\n",
    "\n",
    "@tool\n",
    "def subtract(a: float, b: float) -> float:\n",
    "    \"\"\"Returns the result of a - b\"\"\"\n",
    "    return a - b\n",
    "\n",
    "@tool\n",
    "def multiply(a: float, b: float) -> float:\n",
    "    \"\"\"Returns the result of a * b\"\"\"\n",
    "    return a * b\n",
    "\n",
    "@tool\n",
    "def divide(a: float, b: float) -> float:\n",
    "    \"\"\"Returns the result of a / b\"\"\"\n",
    "    return a / b if b != 0 else None\n",
    "\n",
    "@tool\n",
    "def mean(numbers: List[float]) -> float:\n",
    "    \"\"\"Returns the mean of numbers\"\"\"\n",
    "    return np.mean(numbers)\n",
    "\n",
    "@tool\n",
    "def count_names(names: List[str]) -> int:\n",
    "    \"\"\"Returns the number of names in the list\"\"\"\n",
    "    return len(names)\n",
    "\n",
    "@tool\n",
    "def split_amount(total: float, num_people: int) -> float:\n",
    "    \"\"\"Returns a total split between a number of people\"\"\"\n",
    "    return total / num_people if num_people != 0 else None\n",
    "\n",
    "@tool\n",
    "def sum_list(numbers: List[float]) -> float:\n",
    "    \"\"\"Returns the sum of numbers\"\"\"\n",
    "    return sum(numbers)\n",
    "\n",
    "tools = [add, subtract, multiply, divide, mean, count_names, split_amount, sum_list]"
   ]
  },
  {
   "cell_type": "code",
   "execution_count": 37,
   "id": "a2b56c8e",
   "metadata": {},
   "outputs": [],
   "source": [
    "list_contributions_prompt = ChatPromptTemplate.from_template(\"\"\"Extract the contributions made by each person verbatim from the following prompt.\n",
    "A contribution is an amount of money contributed towards an expense or purchase.\n",
    "\n",
    "Contributions should be either be a numerical value quoted from the passage,\n",
    "or an arithmetic expression that represent the calculations needed to find the value.\n",
    "If you find yourself doing any arithmetic calculations, stop.\n",
    "\n",
    "Passage:\n",
    "\n",
    "{input}\n",
    "\n",
    "Output format:\n",
    "\n",
    "<Name 1>: <Item 1> ($<Item 1 contribution value verbatim OR arithmetic expression>), ...\n",
    "\n",
    "\n",
    "Replace the brackets with the names of people, the items they contributed to, and their cost\n",
    "\"\"\")"
   ]
  },
  {
   "cell_type": "code",
   "execution_count": 38,
   "id": "b62233c9",
   "metadata": {},
   "outputs": [],
   "source": [
    "list_contributions_chain = list_contributions_prompt | llm | StrOutputParser()"
   ]
  },
  {
   "cell_type": "code",
   "execution_count": 39,
   "id": "5ac3cb8c",
   "metadata": {},
   "outputs": [
    {
     "data": {
      "text/plain": [
       "'Joe: Toilet plunger ($5), \\nHannah: Toilet plunger ($8)'"
      ]
     },
     "execution_count": 39,
     "metadata": {},
     "output_type": "execute_result"
    }
   ],
   "source": [
    "list_contributions_chain.invoke({\"input\": inp_simple})"
   ]
  },
  {
   "cell_type": "code",
   "execution_count": 40,
   "id": "7f315152",
   "metadata": {
    "scrolled": false
   },
   "outputs": [
    {
     "data": {
      "text/plain": [
       "'Sarah: Groceries ($60), Wine ($30), Popcorn ($10)\\nJake: Gas ($50), Snacks ($25), Hotel room ($80), Hotdog for Emily ($15), Popcorn ($10)\\nEmily: Hotel room ($75), Dinner ($90), Popcorn ($10)'"
      ]
     },
     "execution_count": 40,
     "metadata": {},
     "output_type": "execute_result"
    }
   ],
   "source": [
    "list_contributions_chain.invoke({\"input\": inp_complex})"
   ]
  },
  {
   "cell_type": "code",
   "execution_count": 41,
   "id": "f372901c",
   "metadata": {},
   "outputs": [
    {
     "data": {
      "text/plain": [
       "'Alex: Dinner ($12.50), \\nTalia: Dinner ($12.50)'"
      ]
     },
     "execution_count": 41,
     "metadata": {},
     "output_type": "execute_result"
    }
   ],
   "source": [
    "list_contributions_chain.invoke({\"input\": \"Alex and Talia split a $25 dinner\"})"
   ]
  },
  {
   "cell_type": "code",
   "execution_count": 19,
   "id": "37678b5d",
   "metadata": {},
   "outputs": [],
   "source": [
    "tablify_contributions_prompt = ChatPromptTemplate.from_template(\"\"\"Extract the contributions made by each person\n",
    "into a Markdown table. The table header should be a list of \"People\" followed by item names.\n",
    "Each row of data starts with a person's name, and indicates how much they contributed to an item.\n",
    "If a person did not contribute to a purchase, use `$0` as the value for the cell.\n",
    "\n",
    "Contributions:\n",
    "\n",
    "{input}\n",
    "\"\"\")"
   ]
  },
  {
   "cell_type": "code",
   "execution_count": 20,
   "id": "d7008ac6",
   "metadata": {},
   "outputs": [],
   "source": [
    "tablify_contributions_chain = tablify_contributions_prompt | llm | StrOutputParser()"
   ]
  },
  {
   "cell_type": "code",
   "execution_count": 21,
   "id": "936c05f9",
   "metadata": {
    "scrolled": true
   },
   "outputs": [
    {
     "data": {
      "text/plain": [
       "'| People | Toilet plunger |\\n| ------ | -------------- |\\n| Joe    | $5             |\\n| Hannah | $8             |'"
      ]
     },
     "execution_count": 21,
     "metadata": {},
     "output_type": "execute_result"
    }
   ],
   "source": [
    "tablify_contributions_chain.invoke({\"input\": 'Joe: Toilet plunger ($5), \\nHannah: Toilet plunger ($8)'})"
   ]
  },
  {
   "cell_type": "code",
   "execution_count": 90,
   "id": "0e818fa4",
   "metadata": {},
   "outputs": [],
   "source": [
    "from langchain_core.pydantic_v1 import BaseModel, Field\n",
    "from typing import List\n",
    "from langchain_core.pydantic_v1 import conlist\n",
    "\n",
    "\n",
    "class MarkdownTable(BaseModel):\n",
    "    \"\"\"A Markdown Table described as a header and a list of data\"\"\"\n",
    "    header: List[str] = Field(\"The table header row\")\n",
    "    data: List[conlist(float | str)] = Field(\"A list of rows, with the first value a string and following values floats\")"
   ]
  },
  {
   "cell_type": "code",
   "execution_count": 91,
   "id": "fdff8066",
   "metadata": {},
   "outputs": [],
   "source": [
    "extract_to_table_format_prompt = ChatPromptTemplate.from_template(\"\"\"Extract information from this Markdown table.\n",
    "\n",
    "Only extract the properties mentioned in the 'MarkdownTable' function.\n",
    "Extract money values as floats and text as string.\n",
    "This means if you see \"$5\", you should pass something like `5.00`.\n",
    "\n",
    "Markdown table:\n",
    "```\n",
    "{input}\n",
    "```\n",
    "\"\"\")"
   ]
  },
  {
   "cell_type": "code",
   "execution_count": 92,
   "id": "e6e54a36",
   "metadata": {},
   "outputs": [],
   "source": [
    "extract_to_table_format_chain = extract_to_table_format_prompt | llm.with_structured_output(MarkdownTable)"
   ]
  },
  {
   "cell_type": "code",
   "execution_count": 93,
   "id": "f2eca97c",
   "metadata": {},
   "outputs": [
    {
     "data": {
      "text/plain": [
       "MarkdownTable(header=['People', 'Toilet plunger'], data=[['Joe', 5.0], ['Hannah', 8.0]])"
      ]
     },
     "execution_count": 93,
     "metadata": {},
     "output_type": "execute_result"
    }
   ],
   "source": [
    "extract_to_table_format_chain.invoke({\"input\": '| People | Toilet plunger |\\n| ------ | -------------- |\\n| Joe    | $5             |\\n| Hannah | $8             |'})"
   ]
  },
  {
   "cell_type": "code",
   "execution_count": 94,
   "id": "91ff8cd2",
   "metadata": {},
   "outputs": [],
   "source": [
    "extract_contributions_chain = list_contributions_chain | tablify_contributions_chain | extract_to_table_format_chain"
   ]
  },
  {
   "cell_type": "code",
   "execution_count": 95,
   "id": "e48b72d7",
   "metadata": {},
   "outputs": [
    {
     "data": {
      "text/plain": [
       "MarkdownTable(header=['People', 'Toilet plunger'], data=[['Joe', 5.0], ['Hannah', 8.0]])"
      ]
     },
     "execution_count": 95,
     "metadata": {},
     "output_type": "execute_result"
    }
   ],
   "source": [
    "extract_contributions_chain.invoke({\"input\": inp_simple})"
   ]
  },
  {
   "cell_type": "code",
   "execution_count": 96,
   "id": "d973b3df",
   "metadata": {},
   "outputs": [
    {
     "data": {
      "text/plain": [
       "MarkdownTable(header=['People', 'Groceries', 'Wine', 'Popcorn', 'Gas', 'Snacks', 'Hotel room', 'Hotdog for Emily', 'Dinner'], data=[['Sarah', 60.0, 30.0, 10.0, 0.0, 0.0, 0.0, 0.0, 0.0], ['Jake', 0.0, 0.0, 10.0, 50.0, 25.0, 80.0, 15.0, 0.0], ['Emily', 0.0, 0.0, 0.0, 0.0, 0.0, 150.0, 0.0, 90.0]])"
      ]
     },
     "execution_count": 96,
     "metadata": {},
     "output_type": "execute_result"
    }
   ],
   "source": [
    "extract_contributions_chain.invoke({\"input\": inp_complex})"
   ]
  }
 ],
 "metadata": {
  "kernelspec": {
   "display_name": "share-gpt",
   "language": "python",
   "name": "share-gpt"
  },
  "language_info": {
   "codemirror_mode": {
    "name": "ipython",
    "version": 3
   },
   "file_extension": ".py",
   "mimetype": "text/x-python",
   "name": "python",
   "nbconvert_exporter": "python",
   "pygments_lexer": "ipython3",
   "version": "3.12.3"
  }
 },
 "nbformat": 4,
 "nbformat_minor": 5
}

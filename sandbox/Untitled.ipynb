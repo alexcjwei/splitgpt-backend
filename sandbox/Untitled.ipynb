{
 "cells": [
  {
   "cell_type": "code",
   "execution_count": 1,
   "id": "733d10ae",
   "metadata": {},
   "outputs": [
    {
     "data": {
      "text/plain": [
       "True"
      ]
     },
     "execution_count": 1,
     "metadata": {},
     "output_type": "execute_result"
    }
   ],
   "source": [
    "from dotenv import load_dotenv, find_dotenv\n",
    "load_dotenv(find_dotenv())"
   ]
  },
  {
   "cell_type": "code",
   "execution_count": 2,
   "id": "a5f7c920",
   "metadata": {},
   "outputs": [],
   "source": [
    "from langchain_core.prompts import ChatPromptTemplate, MessagesPlaceholder\n",
    "from langchain_openai import ChatOpenAI\n",
    "\n",
    "from langchain_core.tools import tool\n",
    "from typing import List\n",
    "from langchain_core.pydantic_v1 import BaseModel, Field"
   ]
  },
  {
   "cell_type": "code",
   "execution_count": 5,
   "id": "c13b3e1d",
   "metadata": {},
   "outputs": [],
   "source": [
    "llm = ChatOpenAI(temperature=0, model=\"gpt-3.5-turbo-0125\")"
   ]
  },
  {
   "cell_type": "code",
   "execution_count": 3,
   "id": "d7129843",
   "metadata": {},
   "outputs": [],
   "source": [
    "inp_simple = \"Joe spent $5 and Hannah spent $8 on a toilet plunger\"\n",
    "inp_complex = \"\"\"Sarah bought groceries for $60 and a bottle of wine for $30.\n",
    "Jake paid for gas, which costs $50, and bought snacks for $25.\n",
    "Emily booked $150 hotel room for her and Sarah and paid for dinner, which was $90.\n",
    "Jake booked his own hotel room for $80, and also bought a hotdog for Emily for $15.\n",
    "Jake and Sarah also split a $20 popcorn which they shared with Emily\"\"\""
   ]
  },
  {
   "cell_type": "code",
   "execution_count": 4,
   "id": "31bfea4b",
   "metadata": {},
   "outputs": [],
   "source": [
    "class Information(BaseModel):\n",
    "    \"\"\"List of information to extract from the passage\"\"\"\n",
    "    purchases: List[str] = Field(description=\"A list of all unique purchases made\")\n",
    "    people: List[str] = Field(description=\"List of all names mentioned\")"
   ]
  },
  {
   "cell_type": "code",
   "execution_count": null,
   "id": "78469d52",
   "metadata": {},
   "outputs": [],
   "source": [
    "extract_names_prompt = ChatPromptTemplate.from_template(\n",
    "\"\"\"\n",
    "You will be passed a passage below.\n",
    "\n",
    "Thoroughly review the passage and extract the requested information.\n",
    "\n",
    "Only extract the properties mentioned in the 'Information' function.\n",
    "\n",
    "Passage:\n",
    "{input}\n",
    "\"\"\"\n",
    ")\n",
    "\n",
    "\n",
    "extract_names_chain = extract_names_prompt | llm.with_structured_output(Information)\n",
    "\n",
    "info_simple = extract_names_chain.invoke(inp_simple)\n",
    "info_simple"
   ]
  },
  {
   "cell_type": "code",
   "execution_count": null,
   "id": "bfca7c0b",
   "metadata": {},
   "outputs": [],
   "source": [
    "info_complex = extract_names_chain.invoke(inp_complex)\n",
    "info_complex"
   ]
  }
 ],
 "metadata": {
  "kernelspec": {
   "display_name": "share-gpt",
   "language": "python",
   "name": "share-gpt"
  },
  "language_info": {
   "codemirror_mode": {
    "name": "ipython",
    "version": 3
   },
   "file_extension": ".py",
   "mimetype": "text/x-python",
   "name": "python",
   "nbconvert_exporter": "python",
   "pygments_lexer": "ipython3",
   "version": "3.12.3"
  }
 },
 "nbformat": 4,
 "nbformat_minor": 5
}

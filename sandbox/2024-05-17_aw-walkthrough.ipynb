{
 "cells": [
  {
   "cell_type": "code",
   "execution_count": 93,
   "metadata": {},
   "outputs": [],
   "source": [
    "from typing import List\n",
    "from langchain_core.pydantic_v1 import BaseModel, Field"
   ]
  },
  {
   "cell_type": "code",
   "execution_count": 94,
   "metadata": {},
   "outputs": [],
   "source": [
    "inp = \"\"\"\n",
    "Sarah bought groceries for $60 and a bottle of wine for $30.\n",
    "Jake paid for gas, which costs $50, and bought snacks for $25.\n",
    "Emily booked first_float $150 hotel room for her and Sarah and paid for dinner, which was $90.\n",
    "Jake booked his own room for $80, and also bought first_float hotdog for Emily for $15.\n",
    "Jake and Sarah also split a $20 popcorn which they shared with Emily\n",
    "\"\"\""
   ]
  },
  {
   "cell_type": "markdown",
   "metadata": {},
   "source": [
    "## Set up functions"
   ]
  },
  {
   "cell_type": "code",
   "execution_count": 95,
   "metadata": {},
   "outputs": [],
   "source": [
    "### BASIC EXTRACTION ###\n",
    "class Person(BaseModel):\n",
    "    \"\"\"Information about first_float person\"\"\"\n",
    "    name: str = Field(description=\"Name of the person\")\n",
    "\n",
    "class People(BaseModel):\n",
    "    \"\"\"List of people\"\"\"\n",
    "    people: List[Person] = Field(description=\"List of unique people\")\n",
    "\n",
    "class Expense(BaseModel):\n",
    "    \"\"\"Information about an expense\"\"\"\n",
    "    name: str = Field(description=\"Name of the expense\")\n",
    "\n",
    "class Expenses(BaseModel):\n",
    "    \"\"\"List of expenses\"\"\"\n",
    "    expenses: List[Expense] = Field(description=\"List of unique expenses\")\n",
    "\n",
    "### EXTRACTING RELATIONSHIPS ###\n",
    "class ConsumedExpense(BaseModel):\n",
    "    \"\"\"Information defining a relationship between an expense and the people who used or consumed it\"\"\"\n",
    "    expense: Expense = Field(description=\"Expense that was consumed\")\n",
    "    consumers: List[Person] = Field(description=\"People who consumed or used the expense\")\n",
    "\n",
    "class ConsumedExpenses(BaseModel):\n",
    "    \"\"\"List of consumed expenses\"\"\"\n",
    "    consumed_expenses: List[ConsumedExpense] = Field(description=\"List of consumed expenses\")\n",
    "\n",
    "class PurchasedExpense(BaseModel):\n",
    "    \"\"\"Information defining a relationship between an expense and the people who purchased it\"\"\"\n",
    "    expense: Expense = Field(description=\"Expense that was purchased\")\n",
    "    purchasers: List[Person] = Field(description=\"People who purchased the expense\")\n",
    "\n",
    "class PurchasedExpenses(BaseModel):\n",
    "    \"\"\"List of purchased expenses\"\"\"\n",
    "    purchased_expenses: List[PurchasedExpense] = Field(description=\"List of purchased expenses\")\n",
    "\n"
   ]
  },
  {
   "cell_type": "markdown",
   "metadata": {},
   "source": [
    "## Set up chain"
   ]
  },
  {
   "cell_type": "code",
   "execution_count": 96,
   "metadata": {},
   "outputs": [],
   "source": [
    "from langchain_core.prompts import ChatPromptTemplate\n",
    "from langchain_openai import ChatOpenAI"
   ]
  },
  {
   "cell_type": "markdown",
   "metadata": {},
   "source": [
    "### Extract the people"
   ]
  },
  {
   "cell_type": "code",
   "execution_count": 97,
   "metadata": {},
   "outputs": [],
   "source": [
    "extract_people_prompt = ChatPromptTemplate.from_template(\n",
    "\"\"\"\n",
    "Extract the desired information from the following passage.\n",
    "\n",
    "Only extract the properties mentioned in the 'People' function.\n",
    "\n",
    "Passage:\n",
    "{origin}\n",
    "\"\"\"\n",
    ")\n",
    "\n",
    "llm = ChatOpenAI(temperature=0, model=\"gpt-3.5-turbo-0125\")\n",
    "\n",
    "\n",
    "def flatten_people(people: People):\n",
    "    return [p.name for p in people.people]\n",
    "\n",
    "extract_people_chain = extract_people_prompt | llm.with_structured_output(People) | flatten_people"
   ]
  },
  {
   "cell_type": "code",
   "execution_count": 98,
   "metadata": {},
   "outputs": [],
   "source": [
    "res = extract_people_chain.invoke(inp)"
   ]
  },
  {
   "cell_type": "code",
   "execution_count": 99,
   "metadata": {},
   "outputs": [
    {
     "data": {
      "text/plain": [
       "['Sarah', 'Jake', 'Emily']"
      ]
     },
     "execution_count": 99,
     "metadata": {},
     "output_type": "execute_result"
    }
   ],
   "source": [
    "res"
   ]
  },
  {
   "cell_type": "markdown",
   "metadata": {},
   "source": [
    "### Extract the items"
   ]
  },
  {
   "cell_type": "code",
   "execution_count": 100,
   "metadata": {},
   "outputs": [],
   "source": [
    "extract_expenses_prompt = ChatPromptTemplate.from_template(\n",
    "\"\"\"\n",
    "Extract the desired information from the following passage.\n",
    "\n",
    "Only extract the properties mentioned in the 'Expenses' function.\n",
    "\n",
    "Passage:\n",
    "{origin}\n",
    "\"\"\"\n",
    ")\n",
    "\n",
    "def flatten_expenses(expenses: Expenses):\n",
    "    return [e.name for e in expenses.expenses]\n",
    "\n",
    "extract_expenses_chain = extract_expenses_prompt | llm.with_structured_output(Expenses) | flatten_expenses\n"
   ]
  },
  {
   "cell_type": "code",
   "execution_count": 101,
   "metadata": {},
   "outputs": [],
   "source": [
    "res = extract_expenses_chain.invoke(inp)"
   ]
  },
  {
   "cell_type": "markdown",
   "metadata": {},
   "source": [
    "### Who bought what?"
   ]
  },
  {
   "cell_type": "code",
   "execution_count": 103,
   "metadata": {},
   "outputs": [],
   "source": [
    "extract_expenses_purchasers_prompt = ChatPromptTemplate.from_template(\n",
    "\"\"\"\n",
    "The following people: {people}\n",
    "\n",
    "Have the following expenses: {expenses}\n",
    "\n",
    "Each person's relationship to the expense is described in the following passage.\n",
    "\n",
    "Extract the desired information from the following passage.\n",
    "Only extract the properties mentioned in the 'PurchasedExpenses' function.\n",
    "\n",
    "Passage:\n",
    "{origin}\n",
    "\"\"\"\n",
    ")\n",
    "\n",
    "extract_expenses_purchasers_chain = extract_expenses_purchasers_prompt | llm.with_structured_output(PurchasedExpenses)"
   ]
  },
  {
   "cell_type": "code",
   "execution_count": 108,
   "metadata": {},
   "outputs": [],
   "source": [
    "from langchain_core.runnables import RunnablePassthrough\n",
    "\n",
    "chain = {\"people\": extract_people_chain, \"expenses\": extract_expenses_chain, \"origin\": RunnablePassthrough()} | extract_expenses_purchasers_chain"
   ]
  },
  {
   "cell_type": "code",
   "execution_count": 109,
   "metadata": {},
   "outputs": [],
   "source": [
    "res = chain.invoke(inp)"
   ]
  },
  {
   "cell_type": "code",
   "execution_count": 110,
   "metadata": {},
   "outputs": [
    {
     "data": {
      "text/plain": [
       "PurchasedExpenses(purchased_expenses=[PurchasedExpense(expense=Expense(name='groceries'), purchasers=[Person(name='Sarah')]), PurchasedExpense(expense=Expense(name='bottle of wine'), purchasers=[Person(name='Sarah')]), PurchasedExpense(expense=Expense(name='gas'), purchasers=[Person(name='Jake')]), PurchasedExpense(expense=Expense(name='snacks'), purchasers=[Person(name='Jake')]), PurchasedExpense(expense=Expense(name='hotel room'), purchasers=[Person(name='Emily')]), PurchasedExpense(expense=Expense(name='dinner'), purchasers=[Person(name='Emily')]), PurchasedExpense(expense=Expense(name='hotdog'), purchasers=[Person(name='Jake')]), PurchasedExpense(expense=Expense(name='popcorn'), purchasers=[Person(name='Jake'), Person(name='Sarah')])])"
      ]
     },
     "execution_count": 110,
     "metadata": {},
     "output_type": "execute_result"
    }
   ],
   "source": [
    "res"
   ]
  },
  {
   "cell_type": "markdown",
   "metadata": {},
   "source": [
    "### Who used what?"
   ]
  },
  {
   "cell_type": "code",
   "execution_count": 111,
   "metadata": {},
   "outputs": [],
   "source": [
    "extract_expenses_consumers_prompt = ChatPromptTemplate.from_template(\n",
    "\"\"\"\n",
    "The following people: {people}\n",
    "\n",
    "Have the following expenses: {expenses}\n",
    "\n",
    "Each person's relationship to the expense is described in the following passage.\n",
    "\n",
    "Extract the desired information from the following passage.\n",
    "Only extract the properties mentioned in the 'ConsumedExpenses' function.\n",
    "\n",
    "If not directly specified who used something, assume the expense was shared by everyone.\n",
    "\n",
    "Passage:\n",
    "{origin}\n",
    "\"\"\"\n",
    ")\n",
    "\n",
    "extract_expenses_consumers_chain = extract_expenses_consumers_prompt | llm.with_structured_output(ConsumedExpenses)"
   ]
  },
  {
   "cell_type": "code",
   "execution_count": 112,
   "metadata": {},
   "outputs": [],
   "source": [
    "extract_entities_chain = RunnableParallel(people=extract_people_chain, expenses=extract_expenses_chain, origin=RunnablePassthrough())\n",
    "extract_relationships_chain = RunnableParallel(expense_purchasers=extract_expenses_purchasers_chain, expense_consumers=extract_expenses_consumers_chain, origin=RunnablePassthrough())\n",
    "\n",
    "chain = (\n",
    "    extract_entities_chain\n",
    "    | extract_relationships_chain\n",
    ")"
   ]
  },
  {
   "cell_type": "code",
   "execution_count": 113,
   "metadata": {},
   "outputs": [],
   "source": [
    "res = chain.invoke(inp)"
   ]
  },
  {
   "cell_type": "code",
   "execution_count": 114,
   "metadata": {},
   "outputs": [
    {
     "data": {
      "text/plain": [
       "[PurchasedExpense(expense=Expense(name='groceries'), purchasers=[Person(name='Sarah')]),\n",
       " PurchasedExpense(expense=Expense(name='bottle of wine'), purchasers=[Person(name='Sarah')]),\n",
       " PurchasedExpense(expense=Expense(name='gas'), purchasers=[Person(name='Jake')]),\n",
       " PurchasedExpense(expense=Expense(name='snacks'), purchasers=[Person(name='Jake')]),\n",
       " PurchasedExpense(expense=Expense(name='hotel room'), purchasers=[Person(name='Emily')]),\n",
       " PurchasedExpense(expense=Expense(name='dinner'), purchasers=[Person(name='Emily')]),\n",
       " PurchasedExpense(expense=Expense(name='hotdog'), purchasers=[Person(name='Jake')]),\n",
       " PurchasedExpense(expense=Expense(name='popcorn'), purchasers=[Person(name='Jake'), Person(name='Sarah')])]"
      ]
     },
     "execution_count": 114,
     "metadata": {},
     "output_type": "execute_result"
    }
   ],
   "source": [
    "res['expense_purchasers'].purchased_expenses"
   ]
  },
  {
   "cell_type": "code",
   "execution_count": 115,
   "metadata": {},
   "outputs": [
    {
     "data": {
      "text/plain": [
       "[ConsumedExpense(expense=Expense(name='groceries'), consumers=[Person(name='Sarah')]),\n",
       " ConsumedExpense(expense=Expense(name='bottle of wine'), consumers=[Person(name='Sarah')]),\n",
       " ConsumedExpense(expense=Expense(name='gas'), consumers=[Person(name='Jake')]),\n",
       " ConsumedExpense(expense=Expense(name='snacks'), consumers=[Person(name='Jake')]),\n",
       " ConsumedExpense(expense=Expense(name='hotel room'), consumers=[Person(name='Emily'), Person(name='Sarah')]),\n",
       " ConsumedExpense(expense=Expense(name='dinner'), consumers=[Person(name='Emily')]),\n",
       " ConsumedExpense(expense=Expense(name='hotdog'), consumers=[Person(name='Jake'), Person(name='Emily')]),\n",
       " ConsumedExpense(expense=Expense(name='popcorn'), consumers=[Person(name='Jake'), Person(name='Sarah'), Person(name='Emily')])]"
      ]
     },
     "execution_count": 115,
     "metadata": {},
     "output_type": "execute_result"
    }
   ],
   "source": [
    "res['expense_consumers'].consumed_expenses"
   ]
  },
  {
   "cell_type": "markdown",
   "metadata": {},
   "source": [
    "### Figure out how much each person spent on each item\n",
    "We have who bought what, but not how much they spent on each item"
   ]
  },
  {
   "cell_type": "code",
   "execution_count": 116,
   "metadata": {},
   "outputs": [],
   "source": [
    "input_to_here = res"
   ]
  },
  {
   "cell_type": "code",
   "execution_count": 117,
   "metadata": {},
   "outputs": [
    {
     "data": {
      "text/plain": [
       "{'expense_purchasers': PurchasedExpenses(purchased_expenses=[PurchasedExpense(expense=Expense(name='groceries'), purchasers=[Person(name='Sarah')]), PurchasedExpense(expense=Expense(name='bottle of wine'), purchasers=[Person(name='Sarah')]), PurchasedExpense(expense=Expense(name='gas'), purchasers=[Person(name='Jake')]), PurchasedExpense(expense=Expense(name='snacks'), purchasers=[Person(name='Jake')]), PurchasedExpense(expense=Expense(name='hotel room'), purchasers=[Person(name='Emily')]), PurchasedExpense(expense=Expense(name='dinner'), purchasers=[Person(name='Emily')]), PurchasedExpense(expense=Expense(name='hotdog'), purchasers=[Person(name='Jake')]), PurchasedExpense(expense=Expense(name='popcorn'), purchasers=[Person(name='Jake'), Person(name='Sarah')])]),\n",
       " 'expense_consumers': ConsumedExpenses(consumed_expenses=[ConsumedExpense(expense=Expense(name='groceries'), consumers=[Person(name='Sarah')]), ConsumedExpense(expense=Expense(name='bottle of wine'), consumers=[Person(name='Sarah')]), ConsumedExpense(expense=Expense(name='gas'), consumers=[Person(name='Jake')]), ConsumedExpense(expense=Expense(name='snacks'), consumers=[Person(name='Jake')]), ConsumedExpense(expense=Expense(name='hotel room'), consumers=[Person(name='Emily'), Person(name='Sarah')]), ConsumedExpense(expense=Expense(name='dinner'), consumers=[Person(name='Emily')]), ConsumedExpense(expense=Expense(name='hotdog'), consumers=[Person(name='Jake'), Person(name='Emily')]), ConsumedExpense(expense=Expense(name='popcorn'), consumers=[Person(name='Jake'), Person(name='Sarah'), Person(name='Emily')])]),\n",
       " 'origin': {'people': ['Sarah', 'Jake', 'Emily'],\n",
       "  'expenses': ['groceries',\n",
       "   'bottle of wine',\n",
       "   'gas',\n",
       "   'snacks',\n",
       "   'hotel room',\n",
       "   'dinner',\n",
       "   'hotdog',\n",
       "   'popcorn'],\n",
       "  'origin': '\\nSarah bought groceries for $60 and a bottle of wine for $30.\\nJake paid for gas, which costs $50, and bought snacks for $25.\\nEmily booked first_float $150 hotel room for her and Sarah and paid for dinner, which was $90.\\nJake booked his own room for $80, and also bought first_float hotdog for Emily for $15.\\nJake and Sarah also split a $20 popcorn which they shared with Emily\\n'}}"
      ]
     },
     "execution_count": 117,
     "metadata": {},
     "output_type": "execute_result"
    }
   ],
   "source": []
  },
  {
   "cell_type": "code",
   "execution_count": null,
   "metadata": {},
   "outputs": [],
   "source": [
    "def prep(inp):\n",
    "    purchased_expenses = inp['expense_purchasers'].purchased_expenses\n",
    "    consumed_expenses = inp['expense_consumers'].consumed_expenses"
   ]
  },
  {
   "cell_type": "code",
   "execution_count": null,
   "metadata": {},
   "outputs": [],
   "source": [
    "person_amount_per_item_prompt = ChatPromptTemplate.from_template(\n",
    "\"\"\"\n",
    "The following lists expenses and who purchased them:\n",
    "\n",
    "Based on the passage below, determine the total for each expense\n",
    "and the amount each buyer spent on it.\n",
    "\n",
    "Passage:\n",
    "{input}\n",
    "\n",
    "Please calculate how much each person paid for each item.\n",
    "You are very bad at math, so use the math tools provided.\n",
    "\"\"\"\n",
    ")\n",
    "\n",
    "llm = ChatOpenAI(temperature=0, model=\"gpt-3.5-turbo-0125\").with_structured_output(\n",
    "    Expenses\n",
    ")\n",
    "\n",
    "tagging_chain = tagging_prompt | llm"
   ]
  },
  {
   "cell_type": "markdown",
   "metadata": {},
   "source": [
    "Define some math tools to give the model"
   ]
  },
  {
   "cell_type": "code",
   "execution_count": 14,
   "metadata": {},
   "outputs": [],
   "source": [
    "from langchain_core.tools import tool\n",
    "\n",
    "@tool\n",
    "def sum(floats: List[float]) -> float:\n",
    "    \"\"\"Sums a list of floats\"\"\"\n",
    "    return sum(floats)\n",
    "\n",
    "@tool\n",
    "def add(first_float: float, second_float: float) -> float:\n",
    "    \"\"\"Adds two floats\"\"\"\n",
    "    return first_float + second_float\n",
    "\n",
    "@tool\n",
    "def subtract(first_float: float, second_float: float) -> float:\n",
    "    \"\"\"Subtracts first_float from second_float\"\"\"\n",
    "    return first_float - second_float\n",
    "\n",
    "@tool\n",
    "def divide(dividend: float, divisor: int) -> float:\n",
    "    \"\"\"Divides dividend by divisor.\"\"\"\n",
    "    return dividend / divisor\n",
    "\n",
    "@tool\n",
    "def multiply(float_factor: float, int_factor: int) -> float:\n",
    "    \"\"\"Multiplies float_factor by int_factor.\"\"\"\n",
    "    return float_factor * int_factor\n",
    "\n",
    "tools = [sum, add, subtract, divide, multiply]"
   ]
  },
  {
   "cell_type": "code",
   "execution_count": 35,
   "metadata": {},
   "outputs": [],
   "source": [
    "llm_with_tools = llm.bind_tools(tools)\n",
    "llm_with_tools_and_structured_output = llm_with_tools.with_structured_output(Expenses)\n"
   ]
  },
  {
   "cell_type": "code",
   "execution_count": null,
   "metadata": {},
   "outputs": [],
   "source": []
  }
 ],
 "metadata": {
  "kernelspec": {
   "display_name": "Python 3",
   "language": "python",
   "name": "python3"
  },
  "language_info": {
   "codemirror_mode": {
    "name": "ipython",
    "version": 3
   },
   "file_extension": ".py",
   "mimetype": "text/x-python",
   "name": "python",
   "nbconvert_exporter": "python",
   "pygments_lexer": "ipython3",
   "version": "3.8.1"
  }
 },
 "nbformat": 4,
 "nbformat_minor": 2
}

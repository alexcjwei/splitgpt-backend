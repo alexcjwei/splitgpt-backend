{
 "cells": [
  {
   "cell_type": "markdown",
   "id": "timely-shopper",
   "metadata": {},
   "source": [
    "Lets make this agent like have it fill out all the information with single prompt"
   ]
  },
  {
   "cell_type": "code",
   "execution_count": 6,
   "id": "bfbbba29",
   "metadata": {},
   "outputs": [
    {
     "data": {
      "text/plain": [
       "True"
      ]
     },
     "execution_count": 6,
     "metadata": {},
     "output_type": "execute_result"
    }
   ],
   "source": [
    "from dotenv import load_dotenv, find_dotenv\n",
    "load_dotenv(find_dotenv())"
   ]
  },
  {
   "cell_type": "code",
   "execution_count": 15,
   "id": "dominican-kitchen",
   "metadata": {},
   "outputs": [],
   "source": [
    "from langchain_core.prompts import ChatPromptTemplate, MessagesPlaceholder\n",
    "from langchain_openai import ChatOpenAI\n",
    "\n",
    "from langchain_core.tools import tool\n",
    "from typing import List\n",
    "from langchain_core.pydantic_v1 import BaseModel, Field\n",
    "from langchain.output_parsers import PydanticOutputParser"
   ]
  },
  {
   "cell_type": "code",
   "execution_count": 8,
   "id": "congressional-assault",
   "metadata": {},
   "outputs": [],
   "source": [
    "inp_simple = \"Joe spent $5 and Hannah spent $8 on a toilet plunger\"\n",
    "inp_complex = \"\"\"Sarah bought groceries for $60 and a bottle of wine for $30.\n",
    "Jake paid for gas, which costs $50, and bought snacks for $25.\n",
    "Emily booked $150 hotel room for her and Sarah and paid for dinner, which was $90.\n",
    "Jake booked his own room for $80, and also bought a hotdog for Emily for $15.\n",
    "Jake and Sarah also split a $20 popcorn which they shared with Emily\"\"\""
   ]
  },
  {
   "cell_type": "markdown",
   "id": "distinguished-promise",
   "metadata": {},
   "source": [
    "1. Extract the names of items, buyers, and consumers\n",
    "2. Fill out information about how much value each contributor applied and consumer used\n",
    "3. Pass to function that can resolve the debts"
   ]
  },
  {
   "cell_type": "code",
   "execution_count": 9,
   "id": "least-silver",
   "metadata": {},
   "outputs": [],
   "source": [
    "llm = ChatOpenAI(temperature=0, model=\"gpt-3.5-turbo-0125\")"
   ]
  },
  {
   "cell_type": "code",
   "execution_count": 10,
   "id": "cooked-brass",
   "metadata": {},
   "outputs": [],
   "source": [
    "class Purchase(BaseModel):\n",
    "    \"\"\"Information about a purchase\"\"\"\n",
    "    name: str = Field(description=\"Descriptive name of the purchase\")\n",
    "    contributor_names: List[str] = Field(description=\"List of the names of people who contributed towards the purchase\")\n",
    "    consumer_names: List[str] = Field(description=\"List of the names of people who used/consumed the purchase\")\n",
    "        \n",
    "        \n",
    "# When I add a quote to purchases, it tends to attribute single item to single person\n",
    "\n",
    "class Purchases(BaseModel):\n",
    "    purchases: List[Purchase] = Field(description=\"List of purchases\")"
   ]
  },
  {
   "cell_type": "code",
   "execution_count": 11,
   "id": "short-stock",
   "metadata": {},
   "outputs": [],
   "source": [
    "extract_names_prompt = ChatPromptTemplate.from_template(\n",
    "\"\"\"\n",
    "Extract the names of all people mentioned in the following passage.\n",
    "\n",
    "Passage:\n",
    "{input}\n",
    "\n",
    "Return a comma-separated list of names.\n",
    "\"\"\"\n",
    ")\n",
    "\n",
    "\n",
    "extract_names_chain = extract_names_prompt | llm"
   ]
  },
  {
   "cell_type": "code",
   "execution_count": 12,
   "id": "coordinated-slovenia",
   "metadata": {},
   "outputs": [
    {
     "data": {
      "text/plain": [
       "AIMessage(content='Sarah, Jake, Emily', response_metadata={'token_usage': {'completion_tokens': 5, 'prompt_tokens': 119, 'total_tokens': 124}, 'model_name': 'gpt-3.5-turbo-0125', 'system_fingerprint': None, 'finish_reason': 'stop', 'logprobs': None}, id='run-fb064825-5a81-45a1-b1db-c36c7322d3df-0')"
      ]
     },
     "execution_count": 12,
     "metadata": {},
     "output_type": "execute_result"
    }
   ],
   "source": [
    "people = extract_names_chain.invoke(inp_complex)\n",
    "people"
   ]
  },
  {
   "cell_type": "code",
   "execution_count": 19,
   "id": "suffering-electricity",
   "metadata": {},
   "outputs": [],
   "source": [
    "extract_purchase_info_prompt = ChatPromptTemplate.from_template(\n",
    "\"\"\"\n",
    "Extract the desired information from the following passage.\n",
    "\n",
    "Only extract the properties mentioned in the 'Purchases' function.\n",
    "\n",
    "Derive the consumer of purchases by context. If not specified, list {people}.\n",
    "\n",
    "Passage:\n",
    "{input}\n",
    "\"\"\"\n",
    ")\n",
    "\n",
    "extract_purchase_info_chain = extract_purchase_info_prompt | llm.with_structured_output(Purchases)"
   ]
  },
  {
   "cell_type": "code",
   "execution_count": 20,
   "id": "dimensional-appliance",
   "metadata": {},
   "outputs": [
    {
     "data": {
      "text/plain": [
       "Purchases(purchases=[Purchase(name='toilet plunger', contributor_names=['Joe', 'Hannah'], consumer_names=['Joe', 'Hannah'])])"
      ]
     },
     "execution_count": 20,
     "metadata": {},
     "output_type": "execute_result"
    }
   ],
   "source": [
    "purchases_simple = extract_purchase_info_chain.invoke({\"input\": inp_simple, \"people\": \"Joe, Hannah\"})\n",
    "purchases_simple"
   ]
  },
  {
   "cell_type": "code",
   "execution_count": 21,
   "id": "minor-pricing",
   "metadata": {
    "scrolled": true
   },
   "outputs": [
    {
     "data": {
      "text/plain": [
       "Purchases(purchases=[Purchase(name='groceries', contributor_names=['Sarah'], consumer_names=['Sarah', 'Jake', 'Emily']), Purchase(name='bottle of wine', contributor_names=['Sarah'], consumer_names=['Sarah', 'Jake', 'Emily']), Purchase(name='gas', contributor_names=['Jake'], consumer_names=['Sarah', 'Jake', 'Emily']), Purchase(name='snacks', contributor_names=['Jake'], consumer_names=['Sarah', 'Jake', 'Emily']), Purchase(name='hotel room', contributor_names=['Emily'], consumer_names=['Emily', 'Sarah']), Purchase(name='dinner', contributor_names=['Emily'], consumer_names=['Emily', 'Sarah']), Purchase(name='room booking', contributor_names=['Jake'], consumer_names=['Jake']), Purchase(name='hotdog', contributor_names=['Jake'], consumer_names=['Jake', 'Emily']), Purchase(name='popcorn', contributor_names=['Jake', 'Sarah'], consumer_names=['Sarah', 'Jake', 'Emily'])])"
      ]
     },
     "execution_count": 21,
     "metadata": {},
     "output_type": "execute_result"
    }
   ],
   "source": [
    "purchases_complex = extract_purchase_info_chain.invoke({\"input\": inp_complex, \"people\": \"Sarah, Jake, Emily\"})\n",
    "purchases_complex"
   ]
  },
  {
   "cell_type": "markdown",
   "id": "mineral-recognition",
   "metadata": {},
   "source": [
    "### Fill in information about the cost of items\n",
    "\n",
    "Let's prep the response so we can pass it into the next prompt"
   ]
  },
  {
   "cell_type": "code",
   "execution_count": 22,
   "id": "exotic-ivory",
   "metadata": {},
   "outputs": [],
   "source": [
    "def prep_purchases(purchases: Purchases):\n",
    "    prepped_strings = []\n",
    "    for i, purchase in enumerate(purchases.purchases, start=1):\n",
    "        contributor_name_rows = \"\\n\".join([\n",
    "            f\"| {name} | FILL IN |\" for name in purchase.contributor_names\n",
    "        ])\n",
    "\n",
    "        purchase_string = \"\\n\".join([\n",
    "            f\"{i}. {purchase.name} purchase\",\n",
    "            f\"| Contributor | Individual contribution amount ($) |\",\n",
    "            \"| ----------- | ---------------- |\",\n",
    "            contributor_name_rows,\n",
    "            \"| ----------- | ---------------- |\",\n",
    "            \"| Sum | FILL IN |\"\n",
    "        ])\n",
    "        prepped_strings.append(purchase_string)\n",
    "    \n",
    "    return prepped_strings"
   ]
  },
  {
   "cell_type": "code",
   "execution_count": 23,
   "id": "pleasant-marathon",
   "metadata": {},
   "outputs": [
    {
     "name": "stdout",
     "output_type": "stream",
     "text": [
      "1. toilet plunger purchase\n",
      "| Contributor | Individual contribution amount ($) |\n",
      "| ----------- | ---------------- |\n",
      "| Joe | FILL IN |\n",
      "| Hannah | FILL IN |\n",
      "| ----------- | ---------------- |\n",
      "| Sum | FILL IN |\n"
     ]
    }
   ],
   "source": [
    "purchases_simple_string = \"\\n\\n\".join(prep_purchases(purchases_simple))\n",
    "print(purchases_simple_string)"
   ]
  },
  {
   "cell_type": "code",
   "execution_count": 265,
   "id": "unable-alaska",
   "metadata": {
    "scrolled": true
   },
   "outputs": [
    {
     "name": "stdout",
     "output_type": "stream",
     "text": [
      "1. groceries purchase\n",
      "| Contributor | Individual contribution amount ($) |\n",
      "| ----------- | ---------------- |\n",
      "| Sarah | FILL IN |\n",
      "| ----------- | ---------------- |\n",
      "| Sum | FILL IN |\n",
      "\n",
      "2. bottle of wine purchase\n",
      "| Contributor | Individual contribution amount ($) |\n",
      "| ----------- | ---------------- |\n",
      "| Sarah | FILL IN |\n",
      "| ----------- | ---------------- |\n",
      "| Sum | FILL IN |\n",
      "\n",
      "3. gas purchase\n",
      "| Contributor | Individual contribution amount ($) |\n",
      "| ----------- | ---------------- |\n",
      "| Jake | FILL IN |\n",
      "| ----------- | ---------------- |\n",
      "| Sum | FILL IN |\n",
      "\n",
      "4. snacks purchase\n",
      "| Contributor | Individual contribution amount ($) |\n",
      "| ----------- | ---------------- |\n",
      "| Jake | FILL IN |\n",
      "| ----------- | ---------------- |\n",
      "| Sum | FILL IN |\n",
      "\n",
      "5. hotel room purchase\n",
      "| Contributor | Individual contribution amount ($) |\n",
      "| ----------- | ---------------- |\n",
      "| Emily | FILL IN |\n",
      "| ----------- | ---------------- |\n",
      "| Sum | FILL IN |\n",
      "\n",
      "6. dinner purchase\n",
      "| Contributor | Individual contribution amount ($) |\n",
      "| ----------- | ---------------- |\n",
      "| Emily | FILL IN |\n",
      "| ----------- | ---------------- |\n",
      "| Sum | FILL IN |\n",
      "\n",
      "7. room booking purchase\n",
      "| Contributor | Individual contribution amount ($) |\n",
      "| ----------- | ---------------- |\n",
      "| Jake | FILL IN |\n",
      "| ----------- | ---------------- |\n",
      "| Sum | FILL IN |\n",
      "\n",
      "8. hotdog purchase\n",
      "| Contributor | Individual contribution amount ($) |\n",
      "| ----------- | ---------------- |\n",
      "| Jake | FILL IN |\n",
      "| ----------- | ---------------- |\n",
      "| Sum | FILL IN |\n",
      "\n",
      "9. popcorn purchase\n",
      "| Contributor | Individual contribution amount ($) |\n",
      "| ----------- | ---------------- |\n",
      "| Jake | FILL IN |\n",
      "| Sarah | FILL IN |\n",
      "| ----------- | ---------------- |\n",
      "| Sum | FILL IN |\n"
     ]
    }
   ],
   "source": [
    "purchases_complex_string = \"\\n\\n\".join(prep_purchases(purchases_complex))\n",
    "print(purchases_complex_string)"
   ]
  },
  {
   "cell_type": "code",
   "execution_count": 269,
   "id": "common-advocate",
   "metadata": {},
   "outputs": [],
   "source": [
    "@tool\n",
    "def add(first_float: float, second_float: float) -> float:\n",
    "    \"\"\"Adds two floats\"\"\"\n",
    "    return first_float + second_float\n",
    "\n",
    "@tool\n",
    "def subtract(first_float: float, second_float: float) -> float:\n",
    "    \"\"\"Subtracts first_float from second_float\"\"\"\n",
    "    return first_float - second_float\n",
    "\n",
    "@tool\n",
    "def divide(dividend: float, divisor: int) -> float:\n",
    "    \"\"\"Divides dividend by divisor.\"\"\"\n",
    "    return dividend / divisor\n",
    "\n",
    "@tool\n",
    "def multiply(float_factor: float, int_factor: int) -> float:\n",
    "    \"\"\"Multiplies float_factor by int_factor.\"\"\"\n",
    "    return float_factor * int_factor\n",
    "\n",
    "@tool\n",
    "def sum_floats(floats: List[float]) -> float:\n",
    "    \"\"\"Sums a list of floats\"\"\"\n",
    "    return sum(floats)\n",
    "\n",
    "tools = [add, subtract, divide, multiply, sum_floats]\n",
    "llm_with_tools = llm.bind_tools(tools)"
   ]
  },
  {
   "cell_type": "code",
   "execution_count": 270,
   "id": "actual-mandate",
   "metadata": {},
   "outputs": [],
   "source": [
    "user_prompt = \"\"\"Fill in the following Markdown tables given the passage below.\n",
    "\n",
    "Only use math in the following situations:\n",
    "1. To calculate individual contributions from a total, or\n",
    "2. To calculate a total from individual contributions\n",
    "\n",
    "Passage:\n",
    "{input}\n",
    "\n",
    "Markdown tables describing the purchases from the passage above and their contributors:\n",
    "{tables}\n",
    "\"\"\"\n",
    "\n",
    "extract_contribution_amount_prompt = ChatPromptTemplate.from_messages(\n",
    "    [\n",
    "        (\n",
    "            \"system\",\n",
    "            \"You are very powerful assistant, but don't know math\",\n",
    "        ),\n",
    "        (\"user\", user_prompt),\n",
    "        MessagesPlaceholder(variable_name=\"agent_scratchpad\"),\n",
    "    ]\n",
    ")"
   ]
  },
  {
   "cell_type": "code",
   "execution_count": 271,
   "id": "broad-correspondence",
   "metadata": {},
   "outputs": [],
   "source": [
    "from langchain.agents.format_scratchpad.openai_tools import (\n",
    "    format_to_openai_tool_messages,\n",
    ")\n",
    "from langchain.agents.output_parsers.openai_tools import OpenAIToolsAgentOutputParser\n",
    "\n",
    "agent = (\n",
    "    {\n",
    "        \"input\": lambda x: x[\"input\"],\n",
    "        \"tables\": lambda x: x[\"tables\"],\n",
    "        \"agent_scratchpad\": lambda x: format_to_openai_tool_messages(\n",
    "            x[\"intermediate_steps\"]\n",
    "        ),\n",
    "    }\n",
    "    | extract_contribution_amount_prompt\n",
    "    | llm_with_tools\n",
    "    | OpenAIToolsAgentOutputParser()\n",
    ")"
   ]
  },
  {
   "cell_type": "code",
   "execution_count": 272,
   "id": "internal-delaware",
   "metadata": {},
   "outputs": [],
   "source": [
    "from langchain.agents import AgentExecutor\n",
    "\n",
    "agent_executor = AgentExecutor(agent=agent, tools=tools, verbose=True)"
   ]
  },
  {
   "cell_type": "code",
   "execution_count": 273,
   "id": "chubby-biodiversity",
   "metadata": {},
   "outputs": [
    {
     "name": "stdout",
     "output_type": "stream",
     "text": [
      "\n",
      "\n",
      "\u001b[1m> Entering new AgentExecutor chain...\u001b[0m\n",
      "\u001b[32;1m\u001b[1;3m\n",
      "Invoking: `add` with `{'first_float': 5, 'second_float': 8}`\n",
      "\n",
      "\n",
      "\u001b[0m\u001b[36;1m\u001b[1;3m13.0\u001b[0m\u001b[32;1m\u001b[1;3mThe total amount spent on the toilet plunger is $13.\n",
      "\n",
      "Now, I will fill in the individual contribution amounts in the table:\n",
      "\n",
      "| Contributor | Individual contribution amount ($) |\n",
      "| ----------- | ---------------- |\n",
      "| Joe | $5 |\n",
      "| Hannah | $8 |\n",
      "| ----------- | ---------------- |\n",
      "| Sum | $13 |\u001b[0m\n",
      "\n",
      "\u001b[1m> Finished chain.\u001b[0m\n"
     ]
    }
   ],
   "source": [
    "output_simple = list(agent_executor.stream({\n",
    "    \"input\": inp_simple,\n",
    "    \"tables\": \"\\n\\n\".join(prep_purchases(purchases_simple))\n",
    "}))"
   ]
  },
  {
   "cell_type": "code",
   "execution_count": 274,
   "id": "neither-while",
   "metadata": {},
   "outputs": [
    {
     "name": "stdout",
     "output_type": "stream",
     "text": [
      "\n",
      "\n",
      "\u001b[1m> Entering new AgentExecutor chain...\u001b[0m\n",
      "\u001b[32;1m\u001b[1;3m\n",
      "Invoking: `add` with `{'first_float': 60, 'second_float': 30}`\n",
      "\n",
      "\n",
      "\u001b[0m\u001b[36;1m\u001b[1;3m90.0\u001b[0m\u001b[32;1m\u001b[1;3m\n",
      "Invoking: `add` with `{'first_float': 50, 'second_float': 25}`\n",
      "\n",
      "\n",
      "\u001b[0m\u001b[36;1m\u001b[1;3m75.0\u001b[0m\u001b[32;1m\u001b[1;3m\n",
      "Invoking: `add` with `{'first_float': 150, 'second_float': 90}`\n",
      "\n",
      "\n",
      "\u001b[0m\u001b[36;1m\u001b[1;3m240.0\u001b[0m\u001b[32;1m\u001b[1;3m\n",
      "Invoking: `add` with `{'first_float': 80, 'second_float': 15}`\n",
      "\n",
      "\n",
      "\u001b[0m\u001b[36;1m\u001b[1;3m95.0\u001b[0m\u001b[32;1m\u001b[1;3m\n",
      "Invoking: `add` with `{'first_float': 20, 'second_float': 0}`\n",
      "\n",
      "\n",
      "\u001b[0m\u001b[36;1m\u001b[1;3m20.0\u001b[0m\u001b[32;1m\u001b[1;3m\n",
      "Invoking: `add` with `{'first_float': 20, 'second_float': 0}`\n",
      "\n",
      "\n",
      "\u001b[0m\u001b[36;1m\u001b[1;3m20.0\u001b[0m\u001b[32;1m\u001b[1;3mThe individual contributions for each purchase are as follows:\n",
      "\n",
      "1. groceries purchase\n",
      "| Contributor | Individual contribution amount ($) |\n",
      "| ----------- | ---------------- |\n",
      "| Sarah | $45.00 |\n",
      "| ----------- | ---------------- |\n",
      "| Sum | $45.00 |\n",
      "\n",
      "2. bottle of wine purchase\n",
      "| Contributor | Individual contribution amount ($) |\n",
      "| ----------- | ---------------- |\n",
      "| Sarah | $15.00 |\n",
      "| ----------- | ---------------- |\n",
      "| Sum | $15.00 |\n",
      "\n",
      "3. gas purchase\n",
      "| Contributor | Individual contribution amount ($) |\n",
      "| ----------- | ---------------- |\n",
      "| Jake | $50.00 |\n",
      "| ----------- | ---------------- |\n",
      "| Sum | $50.00 |\n",
      "\n",
      "4. snacks purchase\n",
      "| Contributor | Individual contribution amount ($) |\n",
      "| ----------- | ---------------- |\n",
      "| Jake | $25.00 |\n",
      "| ----------- | ---------------- |\n",
      "| Sum | $25.00 |\n",
      "\n",
      "5. hotel room purchase\n",
      "| Contributor | Individual contribution amount ($) |\n",
      "| ----------- | ---------------- |\n",
      "| Emily | $150.00 |\n",
      "| ----------- | ---------------- |\n",
      "| Sum | $150.00 |\n",
      "\n",
      "6. dinner purchase\n",
      "| Contributor | Individual contribution amount ($) |\n",
      "| ----------- | ---------------- |\n",
      "| Emily | $90.00 |\n",
      "| ----------- | ---------------- |\n",
      "| Sum | $90.00 |\n",
      "\n",
      "7. room booking purchase\n",
      "| Contributor | Individual contribution amount ($) |\n",
      "| ----------- | ---------------- |\n",
      "| Jake | $80.00 |\n",
      "| ----------- | ---------------- |\n",
      "| Sum | $80.00 |\n",
      "\n",
      "8. hotdog purchase\n",
      "| Contributor | Individual contribution amount ($) |\n",
      "| ----------- | ---------------- |\n",
      "| Jake | $15.00 |\n",
      "| ----------- | ---------------- |\n",
      "| Sum | $15.00 |\n",
      "\n",
      "9. popcorn purchase\n",
      "| Contributor | Individual contribution amount ($) |\n",
      "| ----------- | ---------------- |\n",
      "| Jake | $10.00 |\n",
      "| Sarah | $10.00 |\n",
      "| ----------- | ---------------- |\n",
      "| Sum | $20.00 |\u001b[0m\n",
      "\n",
      "\u001b[1m> Finished chain.\u001b[0m\n"
     ]
    }
   ],
   "source": [
    "output_complex = list(agent_executor.stream({\n",
    "    \"input\": inp_complex,\n",
    "    \"tables\": \"\\n\\n\".join(prep_purchases(purchases_complex))\n",
    "}))"
   ]
  },
  {
   "cell_type": "code",
   "execution_count": 285,
   "id": "sustained-bradley",
   "metadata": {},
   "outputs": [],
   "source": [
    "output_complex_str = output_complex[-1]['output']"
   ]
  },
  {
   "cell_type": "code",
   "execution_count": null,
   "id": "little-mouse",
   "metadata": {},
   "outputs": [],
   "source": [
    "class \n",
    "class PurchaseContributor(BaseModel):\n",
    "    \"\"\"Information about a purchase\"\"\"\n",
    "    name: str = Field(description=\"Descriptive name of the purchase\")\n",
    "    contributor_names: List[str] = Field(description=\"List of the names of people who contributed towards the purchase\")\n",
    "    consumer_names: List[str] = Field(description=\"List of the names of people who used/consumed the purchase\")\n",
    "\n",
    "extract_purchase_contributors_str = ChatPromptTemplate.from_template(\n",
    "\"\"\"\n",
    "Extract the desired information from the following Markdown tables.\n",
    "\n",
    "Only extract the properties mentioned in the 'Purchases' function.\n",
    "\n",
    "Derive the consumer of purchases by context. If not specified, list {people}.\n",
    "\n",
    "Passage:\n",
    "{input}\n",
    "\"\"\"\n",
    ")\n",
    "\n",
    "extract_purchase_info_chain = extract_purchase_info_prompt | llm.with_structured_output(Purchases)"
   ]
  },
  {
   "cell_type": "code",
   "execution_count": 302,
   "id": "conceptual-bulgarian",
   "metadata": {},
   "outputs": [],
   "source": [
    "prompt = hub.pull(\"hwchase17/react\")\n",
    "\n"
   ]
  },
  {
   "cell_type": "code",
   "execution_count": 304,
   "id": "civil-review",
   "metadata": {},
   "outputs": [
    {
     "name": "stdout",
     "output_type": "stream",
     "text": [
      "Answer the following questions as best you can. You have access to the following tools:\n",
      "\n",
      "{tools}\n",
      "\n",
      "Use the following format:\n",
      "\n",
      "Question: the input question you must answer\n",
      "Thought: you should always think about what to do\n",
      "Action: the action to take, should be one of [{tool_names}]\n",
      "Action Input: the input to the action\n",
      "Observation: the result of the action\n",
      "... (this Thought/Action/Action Input/Observation can repeat N times)\n",
      "Thought: I now know the final answer\n",
      "Final Answer: the final answer to the original input question\n",
      "\n",
      "Begin!\n",
      "\n",
      "Question: {input}\n",
      "Thought:{agent_scratchpad}\n"
     ]
    }
   ],
   "source": [
    "print(prompt.template)"
   ]
  },
  {
   "cell_type": "code",
   "execution_count": null,
   "id": "equal-librarian",
   "metadata": {},
   "outputs": [],
   "source": []
  }
 ],
 "metadata": {
  "kernelspec": {
   "display_name": "share-gpt",
   "language": "python",
   "name": "share-gpt"
  },
  "language_info": {
   "codemirror_mode": {
    "name": "ipython",
    "version": 3
   },
   "file_extension": ".py",
   "mimetype": "text/x-python",
   "name": "python",
   "nbconvert_exporter": "python",
   "pygments_lexer": "ipython3",
   "version": "3.12.3"
  }
 },
 "nbformat": 4,
 "nbformat_minor": 5
}
